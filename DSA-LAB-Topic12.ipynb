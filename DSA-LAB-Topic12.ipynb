{
 "cells": [
  {
   "cell_type": "markdown",
   "id": "30aa535b-54c1-41a5-8996-3d71acb53197",
   "metadata": {},
   "source": [
    "Topic 12: Graph Data Structure"
   ]
  },
  {
   "cell_type": "markdown",
   "id": "9448fe61-4045-4a31-a819-5df805aec74a",
   "metadata": {},
   "source": [
    "Task 1: Implementing a Graph Using Adjacency List & Adjacency Matrix"
   ]
  },
  {
   "cell_type": "code",
   "execution_count": 1,
   "id": "f9db387a-45ea-4b7d-8559-8733644b70be",
   "metadata": {},
   "outputs": [],
   "source": [
    "class Graph:\n",
    "    def __init__(self, directed=False):\n",
    "        self.directed = directed\n",
    "        self.adj_list = {}\n",
    "        self.adj_matrix = []\n",
    "\n",
    "    def add_vertex(self, vertex):\n",
    "        if vertex not in self.adj_list:\n",
    "            self.adj_list[vertex] = []\n",
    "            for row in self.adj_matrix:\n",
    "                row.append(0)\n",
    "            self.adj_matrix.append([0] * len(self.adj_list))\n",
    "    \n",
    "    def add_edge(self, u, v):\n",
    "        if u not in self.adj_list:\n",
    "            self.add_vertex(u)\n",
    "        if v not in self.adj_list:\n",
    "            self.add_vertex(v)\n",
    "        \n",
    "        self.adj_list[u].append(v)\n",
    "        \n",
    "        # Adjacency Matrix\n",
    "        u_idx = list(self.adj_list.keys()).index(u)\n",
    "        v_idx = list(self.adj_list.keys()).index(v)\n",
    "        self.adj_matrix[u_idx][v_idx] = 1\n",
    "        \n",
    "        if not self.directed:\n",
    "            self.adj_matrix[v_idx][u_idx] = 1\n",
    "            self.adj_list[v].append(u)\n",
    "\n",
    "    def display_adj_list(self):\n",
    "        print(\"Adjacency List:\", self.adj_list)\n",
    "\n",
    "    def display_adj_matrix(self):\n",
    "        vertices = list(self.adj_list.keys())\n",
    "        print(\"Adjacency Matrix:\")\n",
    "        print(\"   \", \" \".join(vertices))\n",
    "        for i, vertex in enumerate(vertices):\n",
    "            print(vertex, self.adj_matrix[i])\n"
   ]
  },
  {
   "cell_type": "code",
   "execution_count": 2,
   "id": "7c08af4b-f4a8-48cf-a26b-033f2d1ff3c4",
   "metadata": {},
   "outputs": [
    {
     "name": "stdout",
     "output_type": "stream",
     "text": [
      "Adjacency List: {'A': ['B'], 'B': []}\n",
      "Adjacency Matrix:\n",
      "    A B\n",
      "A [0, 1]\n",
      "B [0, 0]\n"
     ]
    }
   ],
   "source": [
    "g = Graph(directed=True)  # Create a directed graph\n",
    "g.add_vertex(\"A\")\n",
    "g.add_vertex(\"B\")\n",
    "g.add_edge(\"A\", \"B\")\n",
    "\n",
    "g.display_adj_list()\n",
    "g.display_adj_matrix()\n"
   ]
  },
  {
   "cell_type": "markdown",
   "id": "9526ed27-0721-4067-b295-13b24cb4698c",
   "metadata": {},
   "source": [
    "Task 2: Implementing Breadth-First Search (BFS) & Depth-First Search\n",
    "(DFS)"
   ]
  },
  {
   "cell_type": "code",
   "execution_count": 3,
   "id": "ca644ee4-2366-4b17-8d6e-7842bca98051",
   "metadata": {},
   "outputs": [],
   "source": [
    "from collections import deque\n",
    "\n",
    "class Graph:\n",
    "    def __init__(self):\n",
    "        self.graph = {}\n",
    "\n",
    "    def add_edge(self, u, v):\n",
    "        if u not in self.graph:\n",
    "            self.graph[u] = []\n",
    "        if v not in self.graph:\n",
    "            self.graph[v] = []\n",
    "        self.graph[u].append(v)\n",
    "        self.graph[v].append(u)  # For undirected graph, add reverse edge as well\n",
    "\n",
    "    def bfs(self, start):\n",
    "        visited = set()\n",
    "        queue = deque([start])\n",
    "        result = []\n",
    "\n",
    "        while queue:\n",
    "            vertex = queue.popleft()\n",
    "            if vertex not in visited:\n",
    "                visited.add(vertex)\n",
    "                result.append(vertex)\n",
    "                for neighbor in self.graph[vertex]:\n",
    "                    if neighbor not in visited:\n",
    "                        queue.append(neighbor)\n",
    "\n",
    "        return result\n",
    "\n",
    "    def dfs_recursive(self, start):\n",
    "        visited = set()\n",
    "        result = []\n",
    "\n",
    "        def dfs(v):\n",
    "            visited.add(v)\n",
    "            result.append(v)\n",
    "            for neighbor in self.graph[v]:\n",
    "                if neighbor not in visited:\n",
    "                    dfs(neighbor)\n",
    "\n",
    "        dfs(start)\n",
    "        return result\n",
    "\n",
    "    def dfs_stack(self, start):\n",
    "        visited = set()\n",
    "        stack = [start]\n",
    "        result = []\n",
    "\n",
    "        while stack:\n",
    "            vertex = stack.pop()\n",
    "            if vertex not in visited:\n",
    "                visited.add(vertex)\n",
    "                result.append(vertex)\n",
    "                for neighbor in self.graph[vertex]:\n",
    "                    if neighbor not in visited:\n",
    "                        stack.append(neighbor)\n",
    "\n",
    "        return result\n"
   ]
  },
  {
   "cell_type": "code",
   "execution_count": 4,
   "id": "af06a165-f261-4666-8b5d-ab25ee5c7c39",
   "metadata": {},
   "outputs": [
    {
     "name": "stdout",
     "output_type": "stream",
     "text": [
      "[0, 1, 2, 3]\n",
      "[0, 1, 3, 2]\n",
      "[0, 2, 3, 1]\n"
     ]
    }
   ],
   "source": [
    "g = Graph()\n",
    "g.add_edge(0, 1)\n",
    "g.add_edge(0, 2)\n",
    "g.add_edge(1, 3)\n",
    "g.add_edge(2, 3)\n",
    "\n",
    "# Perform BFS\n",
    "print(g.bfs(0))  # Output: [0, 1, 2, 3]\n",
    "\n",
    "# Perform DFS (Recursive)\n",
    "print(g.dfs_recursive(0))  # Output: [0, 1, 3, 2] or another valid DFS order\n",
    "\n",
    "# Perform DFS (Stack-based)\n",
    "print(g.dfs_stack(0))  # Output: [0, 2, 3, 1] or another valid DFS order\n"
   ]
  },
  {
   "cell_type": "markdown",
   "id": "161128fb-2a41-4339-bf91-430737eae63a",
   "metadata": {},
   "source": [
    "Task 3: Implementing Dijkstra’s Algorithm for Shortest Path"
   ]
  },
  {
   "cell_type": "code",
   "execution_count": 5,
   "id": "c34102b5-1d84-4d38-a970-11f32a0bb78f",
   "metadata": {},
   "outputs": [],
   "source": [
    "import heapq\n",
    "\n",
    "class Graph:\n",
    "    def __init__(self):\n",
    "        self.graph = {}\n",
    "\n",
    "    def add_edge(self, u, v, weight):\n",
    "        if u not in self.graph:\n",
    "            self.graph[u] = []\n",
    "        if v not in self.graph:\n",
    "            self.graph[v] = []\n",
    "        self.graph[u].append((v, weight))\n",
    "        self.graph[v].append((u, weight))  # For undirected graph\n",
    "\n",
    "    def dijkstra(self, start):\n",
    "        # Priority queue for Dijkstra's algorithm\n",
    "        pq = [(0, start)]  # (distance, vertex)\n",
    "        distances = {vertex: float('inf') for vertex in self.graph}\n",
    "        distances[start] = 0\n",
    "\n",
    "        while pq:\n",
    "            current_distance, current_vertex = heapq.heappop(pq)\n",
    "\n",
    "            # Skip if we have already found a shorter path\n",
    "            if current_distance > distances[current_vertex]:\n",
    "                continue\n",
    "\n",
    "            # Explore neighbors\n",
    "            for neighbor, weight in self.graph[current_vertex]:\n",
    "                distance = current_distance + weight\n",
    "\n",
    "                # Only consider this new path if it's better\n",
    "                if distance < distances[neighbor]:\n",
    "                    distances[neighbor] = distance\n",
    "                    heapq.heappush(pq, (distance, neighbor))\n",
    "\n",
    "        return distances\n"
   ]
  },
  {
   "cell_type": "code",
   "execution_count": 6,
   "id": "251e333f-1789-4c3c-a095-cc6102aa79c1",
   "metadata": {},
   "outputs": [
    {
     "name": "stdout",
     "output_type": "stream",
     "text": [
      "{'A': 0, 'B': 3, 'C': 1, 'D': 4}\n"
     ]
    }
   ],
   "source": [
    "g = Graph()\n",
    "g.add_edge(\"A\", \"B\", 4)\n",
    "g.add_edge(\"A\", \"C\", 1)\n",
    "g.add_edge(\"C\", \"B\", 2)\n",
    "g.add_edge(\"B\", \"D\", 1)\n",
    "\n",
    "print(g.dijkstra(\"A\"))\n"
   ]
  },
  {
   "cell_type": "code",
   "execution_count": null,
   "id": "14e6e3e3-e2ba-4e76-988b-f3d4a19a5362",
   "metadata": {},
   "outputs": [],
   "source": []
  }
 ],
 "metadata": {
  "kernelspec": {
   "display_name": "Python 3 (ipykernel)",
   "language": "python",
   "name": "python3"
  },
  "language_info": {
   "codemirror_mode": {
    "name": "ipython",
    "version": 3
   },
   "file_extension": ".py",
   "mimetype": "text/x-python",
   "name": "python",
   "nbconvert_exporter": "python",
   "pygments_lexer": "ipython3",
   "version": "3.11.7"
  }
 },
 "nbformat": 4,
 "nbformat_minor": 5
}
