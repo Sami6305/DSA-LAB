{
 "cells": [
  {
   "cell_type": "markdown",
   "id": "4601a840-0003-4fff-8d9b-d54cb73ed469",
   "metadata": {},
   "source": [
    "Topic 8: Graphs & Graph Algorithms"
   ]
  },
  {
   "cell_type": "markdown",
   "id": "4ed6681a-11e4-4a88-84df-6f0327d09b54",
   "metadata": {},
   "source": [
    "Task 1: Implementing a Graph Using Adjacency List & Adjacency Matrix"
   ]
  },
  {
   "cell_type": "code",
   "execution_count": 1,
   "id": "50b6e9f1-6a36-4ba9-85d5-e7f31dd9e056",
   "metadata": {},
   "outputs": [
    {
     "name": "stdout",
     "output_type": "stream",
     "text": [
      "Adjacency List:\n",
      "0: [1, 2]\n",
      "1: [0, 3]\n",
      "2: [0, 4]\n",
      "3: [1]\n",
      "4: [2]\n",
      "\n",
      "Adjacency Matrix:\n",
      "[0, 1, 1, 0, 0]\n",
      "[1, 0, 0, 1, 0]\n",
      "[1, 0, 0, 0, 1]\n",
      "[0, 1, 0, 0, 0]\n",
      "[0, 0, 1, 0, 0]\n"
     ]
    }
   ],
   "source": [
    "class Graph:\n",
    "    def __init__(self, vertices):\n",
    "        self.vertices = vertices\n",
    "        self.adj_list = {i: [] for i in range(vertices)}\n",
    "        self.adj_matrix = [[0] * vertices for _ in range(vertices)]\n",
    "\n",
    "    def add_edge(self, v1, v2, directed=False):\n",
    "        self.adj_list[v1].append(v2)\n",
    "        self.adj_matrix[v1][v2] = 1\n",
    "        if not directed:\n",
    "            self.adj_list[v2].append(v1)\n",
    "            self.adj_matrix[v2][v1] = 1\n",
    "\n",
    "    def remove_edge(self, v1, v2, directed=False):\n",
    "        if v2 in self.adj_list[v1]:\n",
    "            self.adj_list[v1].remove(v2)\n",
    "            self.adj_matrix[v1][v2] = 0\n",
    "        if not directed and v1 in self.adj_list[v2]:\n",
    "            self.adj_list[v2].remove(v1)\n",
    "            self.adj_matrix[v2][v1] = 0\n",
    "\n",
    "    def display(self):\n",
    "        print(\"Adjacency List:\")\n",
    "        for key, value in self.adj_list.items():\n",
    "            print(f\"{key}: {value}\")\n",
    "        print(\"\\nAdjacency Matrix:\")\n",
    "        for row in self.adj_matrix:\n",
    "            print(row)\n",
    "\n",
    "\n",
    "# Test case\n",
    "g = Graph(5)\n",
    "g.add_edge(0, 1)\n",
    "g.add_edge(0, 2)\n",
    "g.add_edge(1, 3)\n",
    "g.add_edge(2, 4)\n",
    "g.display()\n"
   ]
  },
  {
   "cell_type": "markdown",
   "id": "379dc46a-13d5-48a2-8055-d8e9bd64ce32",
   "metadata": {},
   "source": [
    "Task 2: Implementing Breadth-First Search (BFS) and Depth-First Search\n",
    "(DFS)"
   ]
  },
  {
   "cell_type": "code",
   "execution_count": 2,
   "id": "2e97fab8-93fd-45b1-a232-37a8263612f1",
   "metadata": {},
   "outputs": [
    {
     "name": "stdout",
     "output_type": "stream",
     "text": [
      "[0, 1, 2, 3, 4, 5]\n",
      "[0, 1, 3, 4, 2, 5]\n"
     ]
    }
   ],
   "source": [
    "from collections import deque\n",
    "\n",
    "class Graph:\n",
    "    def __init__(self, vertices):\n",
    "        self.vertices = vertices\n",
    "        self.adj_list = {i: [] for i in range(vertices)}\n",
    "\n",
    "    def add_edge(self, v1, v2, directed=False):\n",
    "        self.adj_list[v1].append(v2)\n",
    "        if not directed:\n",
    "            self.adj_list[v2].append(v1)\n",
    "\n",
    "    def bfs(self, start):\n",
    "        visited = [False] * self.vertices\n",
    "        queue = deque([start])\n",
    "        visited[start] = True\n",
    "        traversal = []\n",
    "\n",
    "        while queue:\n",
    "            node = queue.popleft()\n",
    "            traversal.append(node)\n",
    "            for neighbor in self.adj_list[node]:\n",
    "                if not visited[neighbor]:\n",
    "                    visited[neighbor] = True\n",
    "                    queue.append(neighbor)\n",
    "\n",
    "        return traversal\n",
    "\n",
    "    def dfs(self, start):\n",
    "        visited = [False] * self.vertices\n",
    "        traversal = []\n",
    "        \n",
    "        def dfs_util(node):\n",
    "            visited[node] = True\n",
    "            traversal.append(node)\n",
    "            for neighbor in self.adj_list[node]:\n",
    "                if not visited[neighbor]:\n",
    "                    dfs_util(neighbor)\n",
    "\n",
    "        dfs_util(start)\n",
    "        return traversal\n",
    "\n",
    "\n",
    "# Test case\n",
    "g = Graph(6)\n",
    "g.add_edge(0, 1)\n",
    "g.add_edge(0, 2)\n",
    "g.add_edge(1, 3)\n",
    "g.add_edge(1, 4)\n",
    "g.add_edge(2, 5)\n",
    "\n",
    "print(g.bfs(0))  # Output: [0, 1, 2, 3, 4, 5]\n",
    "print(g.dfs(0))  # Output: [0, 1, 3, 4, 2, 5] (or similar order)\n"
   ]
  },
  {
   "cell_type": "markdown",
   "id": "9db3445c-7d63-4d89-afe0-d5355f63f1c2",
   "metadata": {},
   "source": [
    "Task 3: Implementing Dijkstra’s Algorithm for Shortest Path"
   ]
  },
  {
   "cell_type": "code",
   "execution_count": 3,
   "id": "1ede5749-10fc-4120-b66f-a756a62b9cf9",
   "metadata": {},
   "outputs": [
    {
     "name": "stdout",
     "output_type": "stream",
     "text": [
      "{'A': 0, 'B': 3, 'C': 1, 'D': 8}\n"
     ]
    }
   ],
   "source": [
    "import heapq\n",
    "\n",
    "def dijkstra(graph, start):\n",
    "    distances = {node: float('inf') for node in graph}\n",
    "    distances[start] = 0\n",
    "    priority_queue = [(0, start)]\n",
    "    \n",
    "    while priority_queue:\n",
    "        current_distance, current_node = heapq.heappop(priority_queue)\n",
    "        if current_distance > distances[current_node]:\n",
    "            continue\n",
    "        for neighbor, weight in graph[current_node].items():\n",
    "            distance = current_distance + weight\n",
    "            if distance < distances[neighbor]:\n",
    "                distances[neighbor] = distance\n",
    "                heapq.heappush(priority_queue, (distance, neighbor))\n",
    "    \n",
    "    return distances\n",
    "\n",
    "graph = {\n",
    "    'A': {'B': 4, 'C': 1},\n",
    "    'B': {'A': 4, 'C': 2, 'D': 5},\n",
    "    'C': {'A': 1, 'B': 2, 'D': 8},\n",
    "    'D': {'B': 5, 'C': 8}\n",
    "}\n",
    "\n",
    "print(dijkstra(graph, 'A'))\n"
   ]
  },
  {
   "cell_type": "code",
   "execution_count": null,
   "id": "0147b561-bb4f-4193-bebd-1067c92c6701",
   "metadata": {},
   "outputs": [],
   "source": []
  }
 ],
 "metadata": {
  "kernelspec": {
   "display_name": "Python 3 (ipykernel)",
   "language": "python",
   "name": "python3"
  },
  "language_info": {
   "codemirror_mode": {
    "name": "ipython",
    "version": 3
   },
   "file_extension": ".py",
   "mimetype": "text/x-python",
   "name": "python",
   "nbconvert_exporter": "python",
   "pygments_lexer": "ipython3",
   "version": "3.11.7"
  }
 },
 "nbformat": 4,
 "nbformat_minor": 5
}
