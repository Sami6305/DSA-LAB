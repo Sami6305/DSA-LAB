{
 "cells": [
  {
   "cell_type": "markdown",
   "id": "fe74d67a-8e29-4b26-b745-f31ed351bba3",
   "metadata": {},
   "source": [
    "Topic 16: Graph Algorithms"
   ]
  },
  {
   "cell_type": "markdown",
   "id": "1130c40b-7b5b-4b45-9d98-85db204cbb7a",
   "metadata": {},
   "source": [
    "Task 1: Implementing Depth-First Search (DFS) and Breadth-First Search\n",
    "(BFS)"
   ]
  },
  {
   "cell_type": "code",
   "execution_count": 2,
   "id": "5e23f4fa-2847-4e65-b7be-4b9024bde408",
   "metadata": {},
   "outputs": [
    {
     "name": "stdout",
     "output_type": "stream",
     "text": [
      "DFS Recursive Traversal:\n",
      "A B D E F C \n",
      "DFS Iterative Traversal:\n",
      "A B D E F C \n",
      "BFS Traversal:\n",
      "A B C D E F "
     ]
    },
    {
     "data": {
      "text/plain": [
       "{'A', 'B', 'C', 'D', 'E', 'F'}"
      ]
     },
     "execution_count": 2,
     "metadata": {},
     "output_type": "execute_result"
    }
   ],
   "source": [
    "from collections import deque\n",
    "\n",
    "# DFS - Recursive Implementation\n",
    "def dfs_recursive(graph, node, visited=None):\n",
    "    if visited is None:\n",
    "        visited = set()\n",
    "    visited.add(node)\n",
    "    print(node, end=' ')  # Print node as we visit it\n",
    "    \n",
    "    for neighbor in graph[node]:\n",
    "        if neighbor not in visited:\n",
    "            dfs_recursive(graph, neighbor, visited)\n",
    "    return visited\n",
    "\n",
    "# DFS - Iterative Implementation\n",
    "def dfs_iterative(graph, start):\n",
    "    visited = set()\n",
    "    stack = [start]\n",
    "    \n",
    "    while stack:\n",
    "        node = stack.pop()\n",
    "        if node not in visited:\n",
    "            print(node, end=' ')  # Print node as we visit it\n",
    "            visited.add(node)\n",
    "            # Push all unvisited neighbors to stack\n",
    "            for neighbor in reversed(graph[node]):  # Reversed to maintain correct traversal order\n",
    "                if neighbor not in visited:\n",
    "                    stack.append(neighbor)\n",
    "    return visited\n",
    "\n",
    "# BFS Implementation\n",
    "def bfs(graph, start):\n",
    "    visited = set()\n",
    "    queue = deque([start])\n",
    "    \n",
    "    while queue:\n",
    "        node = queue.popleft()\n",
    "        if node not in visited:\n",
    "            print(node, end=' ')  # Print node as we visit it\n",
    "            visited.add(node)\n",
    "            for neighbor in graph[node]:\n",
    "                if neighbor not in visited:\n",
    "                    queue.append(neighbor)\n",
    "    return visited\n",
    "\n",
    "# Example Graph\n",
    "graph = {\n",
    "    'A': ['B', 'C'],\n",
    "    'B': ['D', 'E'],\n",
    "    'C': ['F'],\n",
    "    'D': [],\n",
    "    'E': ['F'],\n",
    "    'F': []\n",
    "}\n",
    "\n",
    "# Testing DFS and BFS\n",
    "print(\"DFS Recursive Traversal:\")\n",
    "dfs_recursive(graph, 'A')  # Output: A B D E F C\n",
    "\n",
    "print(\"\\nDFS Iterative Traversal:\")\n",
    "dfs_iterative(graph, 'A')  # Output: A C F B E D\n",
    "\n",
    "print(\"\\nBFS Traversal:\")\n",
    "bfs(graph, 'A')  # Output: A B C D E F\n"
   ]
  },
  {
   "cell_type": "markdown",
   "id": "7985db33-5911-4df2-87e9-1455515d524a",
   "metadata": {},
   "source": [
    "Task 2: Finding the Shortest Path Using Dijkstra’s Algorithm"
   ]
  },
  {
   "cell_type": "code",
   "execution_count": 3,
   "id": "4a5ec413-0115-4f22-a9d1-20954972a846",
   "metadata": {},
   "outputs": [],
   "source": [
    "import heapq\n",
    "\n",
    "def dijkstra(graph, start):\n",
    "    # Step 1: Initialize distances and priority queue\n",
    "    distances = {node: float('inf') for node in graph}\n",
    "    distances[start] = 0\n",
    "    priority_queue = [(0, start)]  # (distance, node)\n",
    "\n",
    "    while priority_queue:\n",
    "        current_distance, current_node = heapq.heappop(priority_queue)\n",
    "\n",
    "        # Step 2: Skip if this path is not the shortest found\n",
    "        if current_distance > distances[current_node]:\n",
    "            continue\n",
    "\n",
    "        # Step 3: Explore neighbors\n",
    "        for neighbor, weight in graph[current_node].items():\n",
    "            distance = current_distance + weight\n",
    "            if distance < distances[neighbor]:\n",
    "                distances[neighbor] = distance\n",
    "                heapq.heappush(priority_queue, (distance, neighbor))\n",
    "\n",
    "    return distances\n"
   ]
  },
  {
   "cell_type": "code",
   "execution_count": 4,
   "id": "67584fff-c85c-4640-9228-e0938d6afff5",
   "metadata": {},
   "outputs": [
    {
     "name": "stdout",
     "output_type": "stream",
     "text": [
      "{'A': 0, 'B': 1, 'C': 3, 'D': 4}\n"
     ]
    }
   ],
   "source": [
    "graph = {\n",
    "    'A': {'B': 1, 'C': 4},\n",
    "    'B': {'A': 1, 'C': 2, 'D': 5},\n",
    "    'C': {'A': 4, 'B': 2, 'D': 1},\n",
    "    'D': {'B': 5, 'C': 1}\n",
    "}\n",
    "\n",
    "print(dijkstra(graph, 'A'))\n"
   ]
  },
  {
   "cell_type": "markdown",
   "id": "1f8f70f4-5ccb-4030-8bc6-8ebc4512a37e",
   "metadata": {},
   "source": [
    "Task 3: Detecting Cycles in a Graph (Directed & Undirected)"
   ]
  },
  {
   "cell_type": "code",
   "execution_count": 5,
   "id": "57f1b407-3cf7-4ee2-ac02-a13a68d54158",
   "metadata": {},
   "outputs": [],
   "source": [
    "def detect_cycle_undirected(graph):\n",
    "    parent = {}\n",
    "\n",
    "    def find(x):\n",
    "        if parent[x] != x:\n",
    "            parent[x] = find(parent[x])\n",
    "        return parent[x]\n",
    "\n",
    "    def union(x, y):\n",
    "        root_x = find(x)\n",
    "        root_y = find(y)\n",
    "        if root_x == root_y:\n",
    "            return True\n",
    "        parent[root_y] = root_x\n",
    "        return False\n",
    "\n",
    "    # Initialize parent\n",
    "    for node in graph:\n",
    "        parent[node] = node\n",
    "\n",
    "    visited = set()\n",
    "    for u in graph:\n",
    "        for v in graph[u]:\n",
    "            if (u, v) in visited or (v, u) in visited:\n",
    "                continue\n",
    "            visited.add((u, v))\n",
    "            if union(u, v):\n",
    "                return True\n",
    "    return False\n"
   ]
  },
  {
   "cell_type": "code",
   "execution_count": 6,
   "id": "b59bc428-3a9b-4184-a733-16cd152df458",
   "metadata": {},
   "outputs": [],
   "source": [
    "def detect_cycle_undirected(graph):\n",
    "    parent = {}\n",
    "\n",
    "    def find(x):\n",
    "        if parent[x] != x:\n",
    "            parent[x] = find(parent[x])\n",
    "        return parent[x]\n",
    "\n",
    "    def union(x, y):\n",
    "        root_x = find(x)\n",
    "        root_y = find(y)\n",
    "        if root_x == root_y:\n",
    "            return True\n",
    "        parent[root_y] = root_x\n",
    "        return False\n",
    "\n",
    "    # Initialize parent\n",
    "    for node in graph:\n",
    "        parent[node] = node\n",
    "\n",
    "    visited = set()\n",
    "    for u in graph:\n",
    "        for v in graph[u]:\n",
    "            if (u, v) in visited or (v, u) in visited:\n",
    "                continue\n",
    "            visited.add((u, v))\n",
    "            if union(u, v):\n",
    "                return True\n",
    "    return False\n"
   ]
  },
  {
   "cell_type": "code",
   "execution_count": 8,
   "id": "ac5ae7df-b31e-409e-ac63-6fdf1a89f449",
   "metadata": {},
   "outputs": [
    {
     "name": "stdout",
     "output_type": "stream",
     "text": [
      "True\n",
      "True\n"
     ]
    }
   ],
   "source": [
    "graph_undirected = {\n",
    "    'A': ['B', 'C'],\n",
    "    'B': ['A', 'D'],\n",
    "    'C': ['A', 'D'],\n",
    "    'D': ['B', 'C']\n",
    "}\n",
    "print(detect_cycle_undirected(graph_undirected))  # True\n",
    "\n",
    "graph_directed = {\n",
    "    'A': ['B'],\n",
    "    'B': ['C'],\n",
    "    'C': ['A']\n",
    "}\n",
    "print(detect_cycle_directed(graph_directed))  # True\n"
   ]
  },
  {
   "cell_type": "code",
   "execution_count": null,
   "id": "c74237ad-320b-4466-b3cd-b606e15c7b6d",
   "metadata": {},
   "outputs": [],
   "source": []
  }
 ],
 "metadata": {
  "kernelspec": {
   "display_name": "Python 3 (ipykernel)",
   "language": "python",
   "name": "python3"
  },
  "language_info": {
   "codemirror_mode": {
    "name": "ipython",
    "version": 3
   },
   "file_extension": ".py",
   "mimetype": "text/x-python",
   "name": "python",
   "nbconvert_exporter": "python",
   "pygments_lexer": "ipython3",
   "version": "3.11.7"
  }
 },
 "nbformat": 4,
 "nbformat_minor": 5
}
