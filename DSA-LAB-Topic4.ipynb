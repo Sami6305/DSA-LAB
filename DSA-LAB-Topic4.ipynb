{
 "cells": [
  {
   "cell_type": "markdown",
   "id": "ded62ae9-af1b-48c4-a209-7a7bf32aba95",
   "metadata": {},
   "source": [
    "Topic 4: Stacks & Queues"
   ]
  },
  {
   "cell_type": "markdown",
   "id": "7959bb7a-5b8c-42c4-b23c-2903efe5dd7f",
   "metadata": {},
   "source": [
    "Task 1"
   ]
  },
  {
   "cell_type": "code",
   "execution_count": 1,
   "id": "643443fd-d89a-4138-b7d6-d40b46f878ff",
   "metadata": {},
   "outputs": [],
   "source": [
    "class StackArray:\n",
    "    def __init__(self):\n",
    "        self.stack = []\n",
    "\n",
    "    def push(self, element):\n",
    "        self.stack.append(element)\n",
    "\n",
    "    def pop(self):\n",
    "        if self.is_empty():\n",
    "            raise IndexError(\"pop from empty stack\")\n",
    "        return self.stack.pop()\n",
    "\n",
    "    def peek(self):\n",
    "        if self.is_empty():\n",
    "            raise IndexError(\"peek from empty stack\")\n",
    "        return self.stack[-1]\n",
    "\n",
    "    def is_empty(self):\n",
    "        return len(self.stack) == 0\n",
    "\n",
    "    def size(self):\n",
    "        return len(self.stack)\n"
   ]
  },
  {
   "cell_type": "code",
   "execution_count": 2,
   "id": "1e50166d-5ef1-40f6-930e-a49590bebcf0",
   "metadata": {},
   "outputs": [],
   "source": [
    "class Node:\n",
    "    def __init__(self, data):\n",
    "        self.data = data\n",
    "        self.next = None\n",
    "\n",
    "class StackLinkedList:\n",
    "    def __init__(self):\n",
    "        self.top = None\n",
    "        self._size = 0\n",
    "\n",
    "    def push(self, element):\n",
    "        new_node = Node(element)\n",
    "        new_node.next = self.top\n",
    "        self.top = new_node\n",
    "        self._size += 1\n",
    "\n",
    "    def pop(self):\n",
    "        if self.is_empty():\n",
    "            raise IndexError(\"pop from empty stack\")\n",
    "        popped_node = self.top\n",
    "        self.top = self.top.next\n",
    "        self._size -= 1\n",
    "        return popped_node.data\n",
    "\n",
    "    def peek(self):\n",
    "        if self.is_empty():\n",
    "            raise IndexError(\"peek from empty stack\")\n",
    "        return self.top.data\n",
    "\n",
    "    def is_empty(self):\n",
    "        return self.top is None\n",
    "\n",
    "    def size(self):\n",
    "        return self._size\n"
   ]
  },
  {
   "cell_type": "code",
   "execution_count": 3,
   "id": "f1cef9e3-e987-44c1-874a-1b5cded41e89",
   "metadata": {},
   "outputs": [
    {
     "name": "stdout",
     "output_type": "stream",
     "text": [
      "Stack using Array:\n",
      "Peek: 30\n",
      "Pop: 30\n",
      "Size: 2\n",
      "Is Empty? False\n",
      "\n",
      "Stack using Linked List:\n",
      "Peek: 30\n",
      "Pop: 30\n",
      "Size: 2\n",
      "Is Empty? False\n"
     ]
    }
   ],
   "source": [
    "# Stack Using Array\n",
    "stack_array = StackArray()\n",
    "stack_array.push(10)\n",
    "stack_array.push(20)\n",
    "stack_array.push(30)\n",
    "print(\"Stack using Array:\")\n",
    "print(\"Peek:\", stack_array.peek())  # Expected: 30\n",
    "print(\"Pop:\", stack_array.pop())    # Expected: 30\n",
    "print(\"Size:\", stack_array.size())  # Expected: 2\n",
    "print(\"Is Empty?\", stack_array.is_empty())  # Expected: False\n",
    "\n",
    "# Stack Using Linked List\n",
    "stack_linked_list = StackLinkedList()\n",
    "stack_linked_list.push(10)\n",
    "stack_linked_list.push(20)\n",
    "stack_linked_list.push(30)\n",
    "print(\"\\nStack using Linked List:\")\n",
    "print(\"Peek:\", stack_linked_list.peek())  # Expected: 30\n",
    "print(\"Pop:\", stack_linked_list.pop())    # Expected: 30\n",
    "print(\"Size:\", stack_linked_list.size())  # Expected: 2\n",
    "print(\"Is Empty?\", stack_linked_list.is_empty())  # Expected: False\n"
   ]
  },
  {
   "cell_type": "markdown",
   "id": "ecf777ea-8d1c-4a17-904b-50beea864ca8",
   "metadata": {},
   "source": [
    "Task 2: Evaluating Postfix Expressions Using Stacks"
   ]
  },
  {
   "cell_type": "code",
   "execution_count": 4,
   "id": "8b635fdf-f059-49da-bfda-187493e73f8b",
   "metadata": {},
   "outputs": [],
   "source": [
    "def evaluate_postfix(expression):\n",
    "    stack = []\n",
    "    tokens = expression.split()\n",
    "\n",
    "    for token in tokens:\n",
    "        if token.isdigit():\n",
    "            stack.append(int(token))\n",
    "        else:\n",
    "            right = stack.pop()\n",
    "            left = stack.pop()\n",
    "\n",
    "            if token == '+':\n",
    "                stack.append(left + right)\n",
    "            elif token == '-':\n",
    "                stack.append(left - right)\n",
    "            elif token == '*':\n",
    "                stack.append(left * right)\n",
    "            elif token == '/':\n",
    "                stack.append(int(left / right))  # integer division\n",
    "            else:\n",
    "                raise ValueError(f\"Invalid operator: {token}\")\n",
    "\n",
    "    return stack.pop()\n"
   ]
  },
  {
   "cell_type": "code",
   "execution_count": 5,
   "id": "28020121-1215-4e90-98e0-79e8c2035133",
   "metadata": {},
   "outputs": [
    {
     "name": "stdout",
     "output_type": "stream",
     "text": [
      "Expression: 5 1 2 + 4 * + 3 -\n",
      "Expected: 14, Got: 14\n",
      "------------------------------\n",
      "Expression: 2 3 +\n",
      "Expected: 5, Got: 5\n",
      "------------------------------\n",
      "Expression: 10 2 8 * + 3 -\n",
      "Expected: 23, Got: 23\n",
      "------------------------------\n",
      "Expression: 100 20 /\n",
      "Expected: 5, Got: 5\n",
      "------------------------------\n",
      "Expression: 4 5 * 2 /\n",
      "Expected: 10, Got: 10\n",
      "------------------------------\n",
      "Expression: 6 2 / 3 - 4 2 * +\n",
      "Expected: 8, Got: 8\n",
      "------------------------------\n",
      "Expression: 7 8 + 3 2 + /\n",
      "Expected: 3, Got: 3\n",
      "------------------------------\n"
     ]
    }
   ],
   "source": [
    "def test_postfix_evaluator():\n",
    "    test_cases = [\n",
    "        (\"5 1 2 + 4 * + 3 -\", 14),\n",
    "        (\"2 3 +\", 5),\n",
    "        (\"10 2 8 * + 3 -\", 23),\n",
    "        (\"100 20 /\", 5),\n",
    "        (\"4 5 * 2 /\", 10),\n",
    "        (\"6 2 / 3 - 4 2 * +\", 8),\n",
    "        (\"7 8 + 3 2 + /\", 3)\n",
    "    ]\n",
    "\n",
    "    for expr, expected in test_cases:\n",
    "        result = evaluate_postfix(expr)\n",
    "        print(f\"Expression: {expr}\")\n",
    "        print(f\"Expected: {expected}, Got: {result}\")\n",
    "        print(\"-\" * 30)\n",
    "        assert result == expected, f\"Test failed for: {expr}\"\n",
    "\n",
    "# Run tests\n",
    "test_postfix_evaluator()\n"
   ]
  },
  {
   "cell_type": "markdown",
   "id": "08089e3d-b907-4ca0-8dd8-885d20eff3e3",
   "metadata": {},
   "source": [
    "Task 3: Implementing a Circular Queue"
   ]
  },
  {
   "cell_type": "code",
   "execution_count": 6,
   "id": "8fda56cd-10b5-4721-a3b8-9d84df723fe3",
   "metadata": {},
   "outputs": [],
   "source": [
    "class CircularQueue:\n",
    "    def __init__(self, size):\n",
    "        self.size = size\n",
    "        self.queue = [None] * size\n",
    "        self.front_index = -1\n",
    "        self.rear_index = -1\n",
    "\n",
    "    def is_empty(self):\n",
    "        return self.front_index == -1\n",
    "\n",
    "    def is_full(self):\n",
    "        return (self.rear_index + 1) % self.size == self.front_index\n",
    "\n",
    "    def enqueue(self, element):\n",
    "        if self.is_full():\n",
    "            print(\"Queue is full!\")\n",
    "            return\n",
    "        if self.is_empty():\n",
    "            self.front_index = self.rear_index = 0\n",
    "        else:\n",
    "            self.rear_index = (self.rear_index + 1) % self.size\n",
    "        self.queue[self.rear_index] = element\n",
    "\n",
    "    def dequeue(self):\n",
    "        if self.is_empty():\n",
    "            print(\"Queue is empty!\")\n",
    "            return None\n",
    "        removed = self.queue[self.front_index]\n",
    "        if self.front_index == self.rear_index:\n",
    "            self.front_index = self.rear_index = -1\n",
    "        else:\n",
    "            self.front_index = (self.front_index + 1) % self.size\n",
    "        return removed\n",
    "\n",
    "    def front(self):\n",
    "        if self.is_empty():\n",
    "            return None\n",
    "        return self.queue[self.front_index]\n",
    "\n",
    "    def rear(self):\n",
    "        if self.is_empty():\n",
    "            return None\n",
    "        return self.queue[self.rear_index]\n",
    "\n",
    "    def display(self):\n",
    "        if self.is_empty():\n",
    "            return []\n",
    "        result = []\n",
    "        i = self.front_index\n",
    "        while True:\n",
    "            result.append(self.queue[i])\n",
    "            if i == self.rear_index:\n",
    "                break\n",
    "            i = (i + 1) % self.size\n",
    "        return result\n"
   ]
  },
  {
   "cell_type": "code",
   "execution_count": 8,
   "id": "50d385e4-8a96-4355-ad49-fda8bab1256e",
   "metadata": {},
   "outputs": [
    {
     "name": "stdout",
     "output_type": "stream",
     "text": [
      "Front: 20\n",
      "Rear: 60\n",
      "Queue: [20, 30, 40, 50, 60]\n"
     ]
    }
   ],
   "source": [
    "cq = CircularQueue(5)\n",
    "cq.enqueue(10)\n",
    "cq.enqueue(20)\n",
    "cq.enqueue(30)\n",
    "cq.enqueue(40)\n",
    "cq.enqueue(50)\n",
    "cq.dequeue()          # removes 10\n",
    "cq.enqueue(60)        # enqueued successfully\n",
    "print(\"Front:\", cq.front())  # Output: 20\n",
    "print(\"Rear:\", cq.rear())    # Output: 60\n",
    "print(\"Queue:\", cq.display())  # Output: [20, 30, 40, 50, 60]\n"
   ]
  },
  {
   "cell_type": "code",
   "execution_count": null,
   "id": "0114abfb-1f2d-47fb-9c25-991947a8c4a5",
   "metadata": {},
   "outputs": [],
   "source": []
  }
 ],
 "metadata": {
  "kernelspec": {
   "display_name": "Python 3 (ipykernel)",
   "language": "python",
   "name": "python3"
  },
  "language_info": {
   "codemirror_mode": {
    "name": "ipython",
    "version": 3
   },
   "file_extension": ".py",
   "mimetype": "text/x-python",
   "name": "python",
   "nbconvert_exporter": "python",
   "pygments_lexer": "ipython3",
   "version": "3.11.7"
  }
 },
 "nbformat": 4,
 "nbformat_minor": 5
}
