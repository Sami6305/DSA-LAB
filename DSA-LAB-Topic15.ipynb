{
 "cells": [
  {
   "cell_type": "markdown",
   "id": "74455ac0-0014-4ac5-a302-00e381b930d8",
   "metadata": {},
   "source": [
    "Topic 15: Backtracking"
   ]
  },
  {
   "cell_type": "markdown",
   "id": "924c013a-1ae2-41d0-96f0-11bdf1d1ebd8",
   "metadata": {},
   "source": [
    "Task 1: Solving the N-Queens Problem Using Backtracking"
   ]
  },
  {
   "cell_type": "code",
   "execution_count": 1,
   "id": "963eb486-0a0b-4872-8152-7f227fcf1f27",
   "metadata": {},
   "outputs": [
    {
     "name": "stdout",
     "output_type": "stream",
     "text": [
      "[['.Q..', '...Q', 'Q...', '..Q.'], ['..Q.', 'Q...', '...Q', '.Q..']]\n"
     ]
    }
   ],
   "source": [
    "def solve_n_queens(n):\n",
    "    def is_safe(board, row, col):\n",
    "        for i in range(row):\n",
    "            if board[i] == col or \\\n",
    "               board[i] - i == col - row or \\\n",
    "               board[i] + i == col + row:\n",
    "                return False\n",
    "        return True\n",
    "\n",
    "    def solve(board, row):\n",
    "        if row == n:\n",
    "            solutions.append([\".\" * i + \"Q\" + \".\" * (n - i - 1) for i in board])\n",
    "            return\n",
    "        \n",
    "        for col in range(n):\n",
    "            if is_safe(board, row, col):\n",
    "                board[row] = col\n",
    "                solve(board, row + 1)\n",
    "                board[row] = -1\n",
    "\n",
    "    solutions = []\n",
    "    board = [-1] * n\n",
    "    solve(board, 0)\n",
    "    return solutions\n",
    "\n",
    "# Example usage\n",
    "print(solve_n_queens(4))\n"
   ]
  },
  {
   "cell_type": "markdown",
   "id": "0e7a454b-84cd-4123-b44b-5d6d27c90dad",
   "metadata": {},
   "source": [
    "Task 2: Generating All Possible Permutations of a String"
   ]
  },
  {
   "cell_type": "code",
   "execution_count": 2,
   "id": "63256e88-0b1e-4dbf-9731-d4ba01c02cb8",
   "metadata": {},
   "outputs": [
    {
     "name": "stdout",
     "output_type": "stream",
     "text": [
      "['ABC', 'ACB', 'BAC', 'BCA', 'CBA', 'CAB']\n"
     ]
    }
   ],
   "source": [
    "def permute(s):\n",
    "    def backtrack(start, end):\n",
    "        if start == end:\n",
    "            result.append(''.join(s))\n",
    "        for i in range(start, end):\n",
    "            # Swap characters to generate new permutation\n",
    "            s[start], s[i] = s[i], s[start]\n",
    "            backtrack(start + 1, end)\n",
    "            # Backtrack (restore the original order)\n",
    "            s[start], s[i] = s[i], s[start]\n",
    "\n",
    "    result = []\n",
    "    s = list(s)\n",
    "    backtrack(0, len(s))\n",
    "    return result\n",
    "\n",
    "# Example usage\n",
    "print(permute(\"ABC\"))\n"
   ]
  },
  {
   "cell_type": "markdown",
   "id": "64573870-5271-4a55-9d79-56e84f476f4f",
   "metadata": {},
   "source": [
    "Task 3: Solving the Sudoku Puzzle Using Backtracking"
   ]
  },
  {
   "cell_type": "code",
   "execution_count": 4,
   "id": "2b38ded9-eff6-483f-8019-c64fe9605c32",
   "metadata": {},
   "outputs": [
    {
     "name": "stdout",
     "output_type": "stream",
     "text": [
      "[5, 3, 4, 6, 7, 8, 9, 1, 2]\n",
      "[6, 7, 2, 1, 9, 5, 3, 4, 8]\n",
      "[1, 9, 8, 3, 4, 2, 5, 6, 7]\n",
      "[8, 5, 9, 7, 6, 1, 4, 2, 3]\n",
      "[4, 2, 6, 8, 5, 3, 7, 9, 1]\n",
      "[7, 1, 3, 9, 2, 4, 8, 5, 6]\n",
      "[9, 6, 1, 5, 3, 7, 2, 8, 4]\n",
      "[2, 8, 7, 4, 1, 9, 6, 3, 5]\n",
      "[3, 4, 5, 2, 8, 6, 1, 7, 9]\n"
     ]
    }
   ],
   "source": [
    "def solve_sudoku(board):\n",
    "    def is_valid(board, row, col, num):\n",
    "        # Check if the number is not repeated in the row, column, or 3x3 grid\n",
    "        for i in range(9):\n",
    "            if board[row][i] == num or board[i][col] == num:\n",
    "                return False\n",
    "        start_row, start_col = 3 * (row // 3), 3 * (col // 3)\n",
    "        for i in range(start_row, start_row + 3):\n",
    "            for j in range(start_col, start_col + 3):\n",
    "                if board[i][j] == num:\n",
    "                    return False\n",
    "        return True\n",
    "\n",
    "    def find_empty(board):\n",
    "        for i in range(9):\n",
    "            for j in range(9):\n",
    "                if board[i][j] == 0:  # 0 indicates an empty cell\n",
    "                    return i, j\n",
    "        return None, None  # No empty cells left\n",
    "\n",
    "    def backtrack(board):\n",
    "        row, col = find_empty(board)\n",
    "        if row is None and col is None:\n",
    "            return True  # Puzzle solved\n",
    "\n",
    "        for num in range(1, 10):  # Try numbers from 1 to 9\n",
    "            if is_valid(board, row, col, num):\n",
    "                board[row][col] = num  # Place the number\n",
    "                if backtrack(board):\n",
    "                    return True\n",
    "                board[row][col] = 0  # Backtrack\n",
    "\n",
    "        return False  # No solution found for this path\n",
    "\n",
    "    backtrack(board)\n",
    "    return board\n",
    "\n",
    "# Example usage\n",
    "sudoku_board = [\n",
    "    [5, 3, 0, 0, 7, 0, 0, 0, 0],\n",
    "    [6, 0, 0, 1, 9, 5, 0, 0, 0],\n",
    "    [0, 9, 8, 0, 0, 0, 0, 6, 0],\n",
    "    [8, 0, 0, 0, 6, 0, 0, 0, 3],\n",
    "    [4, 0, 0, 8, 0, 3, 0, 0, 1],\n",
    "    [7, 0, 0, 0, 2, 0, 0, 0, 6],\n",
    "    [0, 6, 0, 0, 0, 0, 2, 8, 0],\n",
    "    [0, 0, 0, 4, 1, 9, 0, 0, 5],\n",
    "    [0, 0, 0, 0, 8, 0, 0, 7, 9]\n",
    "]\n",
    "\n",
    "solved_board = solve_sudoku(sudoku_board)\n",
    "for row in solved_board:\n",
    "    print(row)\n"
   ]
  },
  {
   "cell_type": "code",
   "execution_count": null,
   "id": "78536c2c-4ff8-4f1a-84a6-5bd9c13ee0ab",
   "metadata": {},
   "outputs": [],
   "source": []
  }
 ],
 "metadata": {
  "kernelspec": {
   "display_name": "Python 3 (ipykernel)",
   "language": "python",
   "name": "python3"
  },
  "language_info": {
   "codemirror_mode": {
    "name": "ipython",
    "version": 3
   },
   "file_extension": ".py",
   "mimetype": "text/x-python",
   "name": "python",
   "nbconvert_exporter": "python",
   "pygments_lexer": "ipython3",
   "version": "3.11.7"
  }
 },
 "nbformat": 4,
 "nbformat_minor": 5
}
