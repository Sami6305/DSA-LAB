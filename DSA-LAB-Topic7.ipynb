{
 "cells": [
  {
   "cell_type": "markdown",
   "id": "dbf1a4bc-4aec-4e85-a31f-411f61734d5c",
   "metadata": {},
   "source": [
    "Topic 7: Heaps & Priority Queues"
   ]
  },
  {
   "cell_type": "markdown",
   "id": "35fe943d-35be-4965-b4f0-2668706e389c",
   "metadata": {},
   "source": [
    "Task 1: Implementing a Min-Heap and Max-Heap"
   ]
  },
  {
   "cell_type": "code",
   "execution_count": 1,
   "id": "c4b0865c-a5d1-4662-91af-01b056989f24",
   "metadata": {},
   "outputs": [],
   "source": [
    "class Heap:\n",
    "    def __init__(self, heap_type=\"min\"):\n",
    "        self.heap = []\n",
    "        self.heap_type = heap_type\n",
    "\n",
    "    def insert(self, value):\n",
    "        self.heap.append(value)\n",
    "        self._heapify_up(len(self.heap) - 1)\n",
    "\n",
    "    def extract_root(self):\n",
    "        if not self.heap:\n",
    "            return None\n",
    "        root = self.heap[0]\n",
    "        last_element = self.heap.pop()\n",
    "        if self.heap:\n",
    "            self.heap[0] = last_element\n",
    "            self._heapify_down(0)\n",
    "        return root\n",
    "\n",
    "    def peek(self):\n",
    "        return self.heap[0] if self.heap else None\n",
    "\n",
    "    def heapify(self, array):\n",
    "        self.heap = array\n",
    "        for i in range(len(self.heap) // 2 - 1, -1, -1):\n",
    "            self._heapify_down(i)\n",
    "\n",
    "    def _heapify_up(self, index):\n",
    "        parent_index = (index - 1) // 2\n",
    "        if parent_index >= 0 and self._compare(self.heap[index], self.heap[parent_index]):\n",
    "            self.heap[index], self.heap[parent_index] = self.heap[parent_index], self.heap[index]\n",
    "            self._heapify_up(parent_index)\n",
    "\n",
    "    def _heapify_down(self, index):\n",
    "        left_child_index = 2 * index + 1\n",
    "        right_child_index = 2 * index + 2\n",
    "        smallest_or_largest = index\n",
    "\n",
    "        if left_child_index < len(self.heap) and self._compare(self.heap[left_child_index], self.heap[smallest_or_largest]):\n",
    "            smallest_or_largest = left_child_index\n",
    "        if right_child_index < len(self.heap) and self._compare(self.heap[right_child_index], self.heap[smallest_or_largest]):\n",
    "            smallest_or_largest = right_child_index\n",
    "\n",
    "        if smallest_or_largest != index:\n",
    "            self.heap[index], self.heap[smallest_or_largest] = self.heap[smallest_or_largest], self.heap[index]\n",
    "            self._heapify_down(smallest_or_largest)\n",
    "\n",
    "    def _compare(self, child, parent):\n",
    "        if self.heap_type == \"min\":\n",
    "            return child < parent\n",
    "        return child > parent\n"
   ]
  },
  {
   "cell_type": "code",
   "execution_count": 2,
   "id": "8ac1473b-fe50-40ea-88ff-ae6eede85606",
   "metadata": {},
   "outputs": [
    {
     "name": "stdout",
     "output_type": "stream",
     "text": [
      "2\n"
     ]
    }
   ],
   "source": [
    "min_heap = Heap(\"min\")\n",
    "min_heap.insert(10)\n",
    "min_heap.insert(5)\n",
    "min_heap.insert(20)\n",
    "min_heap.insert(2)\n",
    "print(min_heap.extract_root())  # Output: 2\n"
   ]
  },
  {
   "cell_type": "markdown",
   "id": "4a2022c3-8530-460f-b70a-e102dbc8d1b4",
   "metadata": {},
   "source": [
    "Task 2: Implementing a Priority Queue Using a Heap"
   ]
  },
  {
   "cell_type": "code",
   "execution_count": 3,
   "id": "9e170a51-111c-43e8-8253-576ce884b177",
   "metadata": {},
   "outputs": [],
   "source": [
    "import heapq\n",
    "\n",
    "class PriorityQueue:\n",
    "    def __init__(self):\n",
    "        self.heap = []\n",
    "        self.count = 0  # To maintain the insertion order in case of same priority\n",
    "\n",
    "    def enqueue(self, value, priority):\n",
    "        # Since heapq is a min-heap, we store negative priority to make it a max-priority queue.\n",
    "        heapq.heappush(self.heap, (priority, self.count, value))\n",
    "        self.count += 1\n",
    "\n",
    "    def dequeue(self):\n",
    "        if self.heap:\n",
    "            priority, count, value = heapq.heappop(self.heap)\n",
    "            return value\n",
    "        return None\n",
    "\n",
    "    def peek(self):\n",
    "        if self.heap:\n",
    "            priority, count, value = self.heap[0]\n",
    "            return value\n",
    "        return None\n"
   ]
  },
  {
   "cell_type": "code",
   "execution_count": 4,
   "id": "0f7f3778-1fbe-48bd-b1f2-b1d4472359cb",
   "metadata": {},
   "outputs": [
    {
     "name": "stdout",
     "output_type": "stream",
     "text": [
      "Task B\n",
      "Task C\n",
      "Task A\n"
     ]
    }
   ],
   "source": [
    "pq = PriorityQueue()\n",
    "pq.enqueue(\"Task A\", 3)  # Priority 3\n",
    "pq.enqueue(\"Task B\", 1)  # Priority 1\n",
    "pq.enqueue(\"Task C\", 2)  # Priority 2\n",
    "\n",
    "print(pq.dequeue())  # Output: \"Task B\" (highest priority)\n",
    "print(pq.dequeue())  # Output: \"Task C\" (next priority)\n",
    "print(pq.peek())     # Output: \"Task A\" (remaining highest priority)\n"
   ]
  },
  {
   "cell_type": "markdown",
   "id": "cf23a3b8-1aff-4f92-b8c0-5893ca772d8e",
   "metadata": {},
   "source": [
    "Task 3: Finding the K Smallest and K Largest Elements Using a Heap"
   ]
  },
  {
   "cell_type": "code",
   "execution_count": 6,
   "id": "d4af3c36-9cea-40f7-9a3d-3f3ea7b666a1",
   "metadata": {},
   "outputs": [],
   "source": [
    "import heapq\n",
    "\n",
    "# Function to find K smallest elements using Min-Heap\n",
    "def find_k_smallest(arr, k):\n",
    "    # Using heapq to find the k smallest elements\n",
    "    return heapq.nsmallest(k, arr)\n",
    "\n",
    "# Function to find K largest elements using Max-Heap\n",
    "def find_k_largest(arr, k):\n",
    "    # Using heapq to find the k largest elements\n",
    "    return heapq.nlargest(k, arr)\n"
   ]
  },
  {
   "cell_type": "code",
   "execution_count": 7,
   "id": "3e3b4c52-a067-49b0-a821-928ecf239792",
   "metadata": {},
   "outputs": [
    {
     "name": "stdout",
     "output_type": "stream",
     "text": [
      "[3, 4, 7]\n",
      "[20, 15]\n"
     ]
    }
   ],
   "source": [
    "arr = [10, 4, 3, 20, 15, 7]\n",
    "print(find_k_smallest(arr, 3))  # Output: [3, 4, 7]\n",
    "print(find_k_largest(arr, 2))  # Output: [20, 15]\n"
   ]
  },
  {
   "cell_type": "code",
   "execution_count": null,
   "id": "009dc9b9-6ea7-4839-b86a-07f999977332",
   "metadata": {},
   "outputs": [],
   "source": []
  }
 ],
 "metadata": {
  "kernelspec": {
   "display_name": "Python 3 (ipykernel)",
   "language": "python",
   "name": "python3"
  },
  "language_info": {
   "codemirror_mode": {
    "name": "ipython",
    "version": 3
   },
   "file_extension": ".py",
   "mimetype": "text/x-python",
   "name": "python",
   "nbconvert_exporter": "python",
   "pygments_lexer": "ipython3",
   "version": "3.11.7"
  }
 },
 "nbformat": 4,
 "nbformat_minor": 5
}
