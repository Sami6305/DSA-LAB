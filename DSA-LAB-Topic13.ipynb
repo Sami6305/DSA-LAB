{
 "cells": [
  {
   "cell_type": "markdown",
   "id": "2af4efdd-e09c-4462-aa2d-ca4b95cab8bb",
   "metadata": {},
   "source": [
    "DSA-LAB-Topic12"
   ]
  },
  {
   "cell_type": "markdown",
   "id": "93e0a065-e70e-4acc-b2dd-3a57a23d9b89",
   "metadata": {},
   "source": [
    "Task 1: Implementing Activity Selection Algorithm"
   ]
  },
  {
   "cell_type": "code",
   "execution_count": 1,
   "id": "f4210c36-0037-49cf-9d5c-548e0c9f0175",
   "metadata": {},
   "outputs": [],
   "source": [
    "def activity_selection(activities):\n",
    "    # Sort the activities based on their finish times\n",
    "    activities.sort(key=lambda x: x[1])\n",
    "    \n",
    "    # Initialize the selected activities list with the first activity\n",
    "    selected_activities = []\n",
    "    last_finish_time = -1\n",
    "    \n",
    "    # Iterate through the sorted activities\n",
    "    for activity in activities:\n",
    "        start, finish = activity\n",
    "        \n",
    "        # If the activity starts after or when the last selected activity finishes\n",
    "        if start >= last_finish_time:\n",
    "            selected_activities.append(activity)\n",
    "            last_finish_time = finish\n",
    "    \n",
    "    return selected_activities\n"
   ]
  },
  {
   "cell_type": "code",
   "execution_count": 2,
   "id": "eacc3e2c-41f6-494a-a1f3-ccb9c2a3f99d",
   "metadata": {},
   "outputs": [
    {
     "name": "stdout",
     "output_type": "stream",
     "text": [
      "[(1, 3), (6, 8), (8, 11)]\n"
     ]
    }
   ],
   "source": [
    "activities = [(1, 3), (2, 5), (3, 9), (6, 8), (8, 11)]\n",
    "print(activity_selection(activities))\n"
   ]
  },
  {
   "cell_type": "markdown",
   "id": "bc6bc05d-7f49-4962-a2af-08c719b59cf9",
   "metadata": {},
   "source": [
    "Task 2: Implementing Huffman Coding for Data Compression"
   ]
  },
  {
   "cell_type": "code",
   "execution_count": 3,
   "id": "b0a419ef-40b1-4481-9868-368b78cc3878",
   "metadata": {},
   "outputs": [
    {
     "name": "stdout",
     "output_type": "stream",
     "text": [
      "Huffman Codes: {'l': '00', 'e': '01', 'y': '100', 'r': '1010', 'g': '1011', 'd': '1100', ' ': '1101', 'h': '1110', 'o': '1111'}\n",
      "Original Size (bits): 96\n",
      "Compressed Size (bits): 37\n"
     ]
    }
   ],
   "source": [
    "import heapq\n",
    "from collections import defaultdict\n",
    "\n",
    "class Node:\n",
    "    def __init__(self, char, freq):\n",
    "        self.char = char\n",
    "        self.freq = freq\n",
    "        self.left = None\n",
    "        self.right = None\n",
    "\n",
    "    def __lt__(self, other):\n",
    "        return self.freq < other.freq\n",
    "\n",
    "def build_huffman_tree(text):\n",
    "    frequency = defaultdict(int)\n",
    "    for char in text:\n",
    "        frequency[char] += 1\n",
    "    \n",
    "    priority_queue = [Node(char, freq) for char, freq in frequency.items()]\n",
    "    heapq.heapify(priority_queue)\n",
    "    \n",
    "    while len(priority_queue) > 1:\n",
    "        left = heapq.heappop(priority_queue)\n",
    "        right = heapq.heappop(priority_queue)\n",
    "        merged = Node(None, left.freq + right.freq)\n",
    "        merged.left = left\n",
    "        merged.right = right\n",
    "        heapq.heappush(priority_queue, merged)\n",
    "    \n",
    "    return priority_queue[0]\n",
    "\n",
    "def generate_huffman_codes(node, current_code, codes):\n",
    "    if node is not None:\n",
    "        if node.char is not None:\n",
    "            codes[node.char] = current_code\n",
    "        generate_huffman_codes(node.left, current_code + \"0\", codes)\n",
    "        generate_huffman_codes(node.right, current_code + \"1\", codes)\n",
    "\n",
    "def huffman_encoding(text):\n",
    "    root = build_huffman_tree(text)\n",
    "    codes = {}\n",
    "    generate_huffman_codes(root, \"\", codes)\n",
    "    return codes\n",
    "\n",
    "def compress(text, codes):\n",
    "    return ''.join(codes[char] for char in text)\n",
    "\n",
    "def original_size(text):\n",
    "    return len(text) * 8\n",
    "\n",
    "def compressed_size(compressed_text):\n",
    "    return len(compressed_text)\n",
    "\n",
    "text = \"hello greedy\"\n",
    "huffman_codes = huffman_encoding(text)\n",
    "compressed_text = compress(text, huffman_codes)\n",
    "\n",
    "print(\"Huffman Codes:\", huffman_codes)\n",
    "print(\"Original Size (bits):\", original_size(text))\n",
    "print(\"Compressed Size (bits):\", compressed_size(compressed_text))\n"
   ]
  },
  {
   "cell_type": "markdown",
   "id": "27977fde-2022-488e-92e7-efc1c22aded1",
   "metadata": {},
   "source": [
    "Task 3: Implementing Kruskal’s Algorithm for Minimum Spanning Tree\n",
    "(MST)"
   ]
  },
  {
   "cell_type": "code",
   "execution_count": 5,
   "id": "f62133a2-59c6-4f7a-8873-f482620de63f",
   "metadata": {},
   "outputs": [
    {
     "name": "stdout",
     "output_type": "stream",
     "text": [
      "[(2, 3, 1), (3, 4, 2), (1, 3, 3)]\n"
     ]
    }
   ],
   "source": [
    "class DisjointSet:\n",
    "    def __init__(self, n):\n",
    "        self.parent = list(range(n))\n",
    "        self.rank = [0] * n\n",
    "    \n",
    "    def find(self, u):\n",
    "        if self.parent[u] != u:\n",
    "            self.parent[u] = self.find(self.parent[u])\n",
    "        return self.parent[u]\n",
    "    \n",
    "    def union(self, u, v):\n",
    "        root_u = self.find(u)\n",
    "        root_v = self.find(v)\n",
    "        \n",
    "        if root_u != root_v:\n",
    "            # Union by rank\n",
    "            if self.rank[root_u] > self.rank[root_v]:\n",
    "                self.parent[root_v] = root_u\n",
    "            elif self.rank[root_u] < self.rank[root_v]:\n",
    "                self.parent[root_u] = root_v\n",
    "            else:\n",
    "                self.parent[root_v] = root_u\n",
    "                self.rank[root_u] += 1\n",
    "            return True\n",
    "        return False\n",
    "\n",
    "def kruskal(edges, n):\n",
    "    # Sort edges by weight\n",
    "    edges.sort(key=lambda edge: edge[2])\n",
    "    \n",
    "    mst = []\n",
    "    disjoint_set = DisjointSet(n)\n",
    "    \n",
    "    for u, v, weight in edges:\n",
    "        # If u and v are not in the same set, include this edge in the MST\n",
    "        if disjoint_set.union(u - 1, v - 1):  # 1-based to 0-based indexing\n",
    "            mst.append((u, v, weight))\n",
    "    \n",
    "    return mst\n",
    "\n",
    "edges = [(1, 2, 4), (2, 3, 1), (1, 3, 3), (3, 4, 2)]\n",
    "mst = kruskal(edges, 4)\n",
    "print(mst)\n"
   ]
  },
  {
   "cell_type": "code",
   "execution_count": null,
   "id": "5bb1d31d-b72f-4c04-9eaa-eabb400b1cfa",
   "metadata": {},
   "outputs": [],
   "source": []
  }
 ],
 "metadata": {
  "kernelspec": {
   "display_name": "Python 3 (ipykernel)",
   "language": "python",
   "name": "python3"
  },
  "language_info": {
   "codemirror_mode": {
    "name": "ipython",
    "version": 3
   },
   "file_extension": ".py",
   "mimetype": "text/x-python",
   "name": "python",
   "nbconvert_exporter": "python",
   "pygments_lexer": "ipython3",
   "version": "3.11.7"
  }
 },
 "nbformat": 4,
 "nbformat_minor": 5
}
