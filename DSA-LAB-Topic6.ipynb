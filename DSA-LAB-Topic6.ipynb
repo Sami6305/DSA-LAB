{
 "cells": [
  {
   "cell_type": "markdown",
   "id": "e98b295b-f095-4151-a9a4-b8d1c8ed300f",
   "metadata": {},
   "source": [
    "Topic 6: Trees & Binary Search Trees (BST)"
   ]
  },
  {
   "cell_type": "markdown",
   "id": "41d34de5-c579-4cff-b2e3-c768c282567a",
   "metadata": {},
   "source": [
    "Task 1: Implementing a Binary Search Tree (BST) with Basic Operations"
   ]
  },
  {
   "cell_type": "code",
   "execution_count": 1,
   "id": "c5db415f-5a13-4537-a32b-a4d099ed0fab",
   "metadata": {},
   "outputs": [],
   "source": [
    "class Node:\n",
    "    def __init__(self, value):\n",
    "        self.value = value\n",
    "        self.left = None\n",
    "        self.right = None\n",
    "\n",
    "class BinarySearchTree:\n",
    "    def __init__(self):\n",
    "        self.root = None\n",
    "\n",
    "    def insert(self, value):\n",
    "        def _insert(root, value):\n",
    "            if root is None:\n",
    "                return Node(value)\n",
    "            if value < root.value:\n",
    "                root.left = _insert(root.left, value)\n",
    "            elif value > root.value:\n",
    "                root.right = _insert(root.right, value)\n",
    "            return root\n",
    "        self.root = _insert(self.root, value)\n",
    "\n",
    "    def search(self, value):\n",
    "        def _search(root, value):\n",
    "            if root is None:\n",
    "                return False\n",
    "            if value == root.value:\n",
    "                return True\n",
    "            elif value < root.value:\n",
    "                return _search(root.left, value)\n",
    "            else:\n",
    "                return _search(root.right, value)\n",
    "        return _search(self.root, value)\n",
    "\n",
    "    def delete(self, value):\n",
    "        def _delete(root, value):\n",
    "            if root is None:\n",
    "                return None\n",
    "            if value < root.value:\n",
    "                root.left = _delete(root.left, value)\n",
    "            elif value > root.value:\n",
    "                root.right = _delete(root.right, value)\n",
    "            else:\n",
    "                # Node found\n",
    "                if root.left is None:\n",
    "                    return root.right\n",
    "                elif root.right is None:\n",
    "                    return root.left\n",
    "                # Node with two children\n",
    "                min_larger_node = self._min_value_node(root.right)\n",
    "                root.value = min_larger_node.value\n",
    "                root.right = _delete(root.right, min_larger_node.value)\n",
    "            return root\n",
    "        self.root = _delete(self.root, value)\n",
    "\n",
    "    def _min_value_node(self, node):\n",
    "        while node.left is not None:\n",
    "            node = node.left\n",
    "        return node\n",
    "\n",
    "    def inorder_traversal(self):\n",
    "        def _inorder(root):\n",
    "            if root:\n",
    "                _inorder(root.left)\n",
    "                print(root.value, end=' ')\n",
    "                _inorder(root.right)\n",
    "        _inorder(self.root)\n",
    "        print()\n"
   ]
  },
  {
   "cell_type": "code",
   "execution_count": 2,
   "id": "33e66011-322b-4e23-9e2b-9b56e3b6b2c8",
   "metadata": {},
   "outputs": [
    {
     "name": "stdout",
     "output_type": "stream",
     "text": [
      "Inorder traversal after insertion:\n",
      "20 30 40 50 60 70 80 \n",
      "Search 60: True\n",
      "Search 100: False\n",
      "After deleting 20 (leaf):\n",
      "30 40 50 60 70 80 \n",
      "After deleting 30 (one child):\n",
      "40 50 60 70 80 \n",
      "After deleting 50 (two children):\n",
      "40 60 70 80 \n"
     ]
    }
   ],
   "source": [
    "# Create BST\n",
    "bst = BinarySearchTree()\n",
    "numbers = [50, 30, 70, 20, 40, 60, 80]\n",
    "for num in numbers:\n",
    "    bst.insert(num)\n",
    "\n",
    "print(\"Inorder traversal after insertion:\")\n",
    "bst.inorder_traversal()  # Expected: 20 30 40 50 60 70 80\n",
    "\n",
    "# Search tests\n",
    "print(\"Search 60:\", bst.search(60))  # True\n",
    "print(\"Search 100:\", bst.search(100))  # False\n",
    "\n",
    "# Delete a leaf node\n",
    "bst.delete(20)\n",
    "print(\"After deleting 20 (leaf):\")\n",
    "bst.inorder_traversal()  # 30 40 50 60 70 80\n",
    "\n",
    "# Delete a node with one child\n",
    "bst.delete(30)\n",
    "print(\"After deleting 30 (one child):\")\n",
    "bst.inorder_traversal()  # 40 50 60 70 80\n",
    "\n",
    "# Delete a node with two children\n",
    "bst.delete(50)\n",
    "print(\"After deleting 50 (two children):\")\n",
    "bst.inorder_traversal()  # 40 60 70 80\n"
   ]
  },
  {
   "cell_type": "markdown",
   "id": "98476cdf-71e7-4875-82dc-489cc2f3db20",
   "metadata": {},
   "source": [
    "Task 2: Finding the Lowest Common Ancestor (LCA) in a BST"
   ]
  },
  {
   "cell_type": "code",
   "execution_count": 3,
   "id": "43edcd02-0709-47f3-87b0-ae04cab116c0",
   "metadata": {},
   "outputs": [],
   "source": [
    "class Node:\n",
    "    def __init__(self, value):\n",
    "        self.value = value\n",
    "        self.left = None\n",
    "        self.right = None\n",
    "\n",
    "def find_lca(root, n1, n2):\n",
    "    # Base condition\n",
    "    if root is None:\n",
    "        return None\n",
    "    \n",
    "    # If both n1 and n2 are smaller than root, LCA lies in left\n",
    "    if n1 < root.value and n2 < root.value:\n",
    "        return find_lca(root.left, n1, n2)\n",
    "    \n",
    "    # If both n1 and n2 are greater than root, LCA lies in right\n",
    "    if n1 > root.value and n2 > root.value:\n",
    "        return find_lca(root.right, n1, n2)\n",
    "    \n",
    "    # If one is on the left and one on the right, current node is LCA\n",
    "    return root\n"
   ]
  },
  {
   "cell_type": "code",
   "execution_count": 4,
   "id": "f6c0c3e0-bc67-4a66-9e29-d805d83a4627",
   "metadata": {},
   "outputs": [],
   "source": [
    "def insert(root, value):\n",
    "    if root is None:\n",
    "        return Node(value)\n",
    "    if value < root.value:\n",
    "        root.left = insert(root.left, value)\n",
    "    else:\n",
    "        root.right = insert(root.right, value)\n",
    "    return root\n"
   ]
  },
  {
   "cell_type": "code",
   "execution_count": 5,
   "id": "d608c129-5f3e-46df-8595-e8ecf6b9cf95",
   "metadata": {},
   "outputs": [
    {
     "name": "stdout",
     "output_type": "stream",
     "text": [
      "LCA of 5 and 15: 10\n",
      "LCA of 5 and 25: 20\n",
      "LCA of 25 and 35: 30\n",
      "LCA of 15 and 30: 20\n"
     ]
    }
   ],
   "source": [
    "# Build BST: \n",
    "#          20\n",
    "#        /    \\\n",
    "#      10     30\n",
    "#     /  \\   /  \\\n",
    "#    5   15 25  35\n",
    "\n",
    "values = [20, 10, 30, 5, 15, 25, 35]\n",
    "bst_root = None\n",
    "for val in values:\n",
    "    bst_root = insert(bst_root, val)\n",
    "\n",
    "# Test Cases\n",
    "print(\"LCA of 5 and 15:\", find_lca(bst_root, 5, 15).value)   # Output: 10\n",
    "print(\"LCA of 5 and 25:\", find_lca(bst_root, 5, 25).value)   # Output: 20\n",
    "print(\"LCA of 25 and 35:\", find_lca(bst_root, 25, 35).value) # Output: 30\n",
    "print(\"LCA of 15 and 30:\", find_lca(bst_root, 15, 30).value) # Output: 20\n"
   ]
  },
  {
   "cell_type": "markdown",
   "id": "aee5cbda-d6d9-40ad-be4d-014d610e8b1a",
   "metadata": {},
   "source": [
    "Task 3: Checking if a Binary Tree is Balanced"
   ]
  },
  {
   "cell_type": "code",
   "execution_count": 6,
   "id": "c6686dae-0c4e-44cc-a70f-43a0efb85a38",
   "metadata": {},
   "outputs": [],
   "source": [
    "class Node:\n",
    "    def __init__(self, value):\n",
    "        self.value = value\n",
    "        self.left = None\n",
    "        self.right = None\n",
    "\n",
    "def is_balanced(root):\n",
    "    def check(node):\n",
    "        if not node:\n",
    "            return 0, True\n",
    "        lh, left_balanced = check(node.left)\n",
    "        rh, right_balanced = check(node.right)\n",
    "        balanced = left_balanced and right_balanced and abs(lh - rh) <= 1\n",
    "        return max(lh, rh) + 1, balanced\n",
    "    return check(root)[1]\n"
   ]
  },
  {
   "cell_type": "code",
   "execution_count": 7,
   "id": "c72b0e67-a7da-43e6-924d-c2d6ec2aa2d2",
   "metadata": {},
   "outputs": [
    {
     "name": "stdout",
     "output_type": "stream",
     "text": [
      "True\n"
     ]
    }
   ],
   "source": [
    "root1 = Node(10)\n",
    "root1.left = Node(5)\n",
    "root1.right = Node(15)\n",
    "root1.left.left = Node(2)\n",
    "root1.left.right = Node(7)\n",
    "root1.right.left = Node(12)\n",
    "root1.right.right = Node(20)\n",
    "\n",
    "print(is_balanced(root1))  # True\n"
   ]
  },
  {
   "cell_type": "code",
   "execution_count": 8,
   "id": "921c542c-6d41-4432-991c-fcae5b6e15ea",
   "metadata": {},
   "outputs": [
    {
     "name": "stdout",
     "output_type": "stream",
     "text": [
      "False\n"
     ]
    }
   ],
   "source": [
    "root2 = Node(10)\n",
    "root2.left = Node(5)\n",
    "root2.left.left = Node(2)\n",
    "\n",
    "print(is_balanced(root2))  # False\n"
   ]
  },
  {
   "cell_type": "code",
   "execution_count": null,
   "id": "1bce6111-bfa6-4178-ac82-484e6dfe1037",
   "metadata": {},
   "outputs": [],
   "source": []
  }
 ],
 "metadata": {
  "kernelspec": {
   "display_name": "Python 3 (ipykernel)",
   "language": "python",
   "name": "python3"
  },
  "language_info": {
   "codemirror_mode": {
    "name": "ipython",
    "version": 3
   },
   "file_extension": ".py",
   "mimetype": "text/x-python",
   "name": "python",
   "nbconvert_exporter": "python",
   "pygments_lexer": "ipython3",
   "version": "3.11.7"
  }
 },
 "nbformat": 4,
 "nbformat_minor": 5
}
