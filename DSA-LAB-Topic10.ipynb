{
 "cells": [
  {
   "cell_type": "markdown",
   "id": "5912f734-7212-47dc-ba48-2883841cfefc",
   "metadata": {},
   "source": [
    "Topic 10: Searching Algorithms"
   ]
  },
  {
   "cell_type": "markdown",
   "id": "d5b38c7a-d3bf-4a76-b181-6fa9ef0c9946",
   "metadata": {},
   "source": [
    "Task 1: Implementing Linear Search and Binary Search"
   ]
  },
  {
   "cell_type": "markdown",
   "id": "389b20d9-5b2f-4fc3-8fbf-3ee70cf44c03",
   "metadata": {},
   "source": [
    "Linear Search"
   ]
  },
  {
   "cell_type": "code",
   "execution_count": 1,
   "id": "578cd261-df10-4159-bcc3-72b6e69d5a54",
   "metadata": {},
   "outputs": [],
   "source": [
    "def linear_search(arr, target):\n",
    "    for i in range(len(arr)):\n",
    "        if arr[i] == target:\n",
    "            return i\n",
    "    return -1\n"
   ]
  },
  {
   "cell_type": "markdown",
   "id": "b9a778f1-04a7-41e4-a159-8ea83ba56097",
   "metadata": {},
   "source": [
    "Binary Search"
   ]
  },
  {
   "cell_type": "code",
   "execution_count": 2,
   "id": "196daaf1-a974-43d4-8a0b-c8302acf68ec",
   "metadata": {},
   "outputs": [],
   "source": [
    "def binary_search(arr, target):\n",
    "    low = 0\n",
    "    high = len(arr) - 1\n",
    "    while low <= high:\n",
    "        mid = (low + high) // 2\n",
    "        if arr[mid] == target:\n",
    "            return mid\n",
    "        elif arr[mid] < target:\n",
    "            low = mid + 1\n",
    "        else:\n",
    "            high = mid - 1\n",
    "    return -1\n"
   ]
  },
  {
   "cell_type": "markdown",
   "id": "04b61117-2192-4453-a620-2b4f9caff49b",
   "metadata": {},
   "source": [
    "Performance Comparison"
   ]
  },
  {
   "cell_type": "code",
   "execution_count": 3,
   "id": "c676cf38-4099-443f-b1d1-0007c5ccc209",
   "metadata": {},
   "outputs": [],
   "source": [
    "import time\n",
    "import random\n",
    "\n",
    "def measure_time(search_function, arr, target):\n",
    "    start = time.time()\n",
    "    search_function(arr, target)\n",
    "    end = time.time()\n",
    "    return end - start\n",
    "\n",
    "def compare_searching_algorithms():\n",
    "    sizes = [1000, 5000, 10000]\n",
    "    linear_times = []\n",
    "    binary_times = []\n",
    "    \n",
    "    for size in sizes:\n",
    "        arr = random.sample(range(1, 100000), size)\n",
    "        target = random.choice(arr)\n",
    "        linear_times.append(measure_time(linear_search, arr, target))\n",
    "        \n",
    "        sorted_arr = sorted(arr)\n",
    "        binary_times.append(measure_time(binary_search, sorted_arr, target))\n",
    "    \n",
    "    return sizes, linear_times, binary_times\n"
   ]
  },
  {
   "cell_type": "code",
   "execution_count": 4,
   "id": "6271a6c4-c76a-4760-83a8-0ca2de7f8842",
   "metadata": {},
   "outputs": [
    {
     "name": "stdout",
     "output_type": "stream",
     "text": [
      "2\n",
      "3\n"
     ]
    }
   ],
   "source": [
    "arr = [10, 23, 45, 70, 11, 15]\n",
    "print(linear_search(arr, 45))  # Output: 2\n",
    "sorted_arr = [10, 15, 23, 45, 70]\n",
    "print(binary_search(sorted_arr, 45))  # Output: 3\n"
   ]
  },
  {
   "cell_type": "markdown",
   "id": "23361be6-f2a6-4761-8916-c6826cc845fe",
   "metadata": {},
   "source": [
    "Task 2: Implementing Interpolation Search and Jump Search"
   ]
  },
  {
   "cell_type": "markdown",
   "id": "0408d435-0aa5-4e96-bf97-6a641ad69abd",
   "metadata": {},
   "source": [
    "Jump Search Implementation"
   ]
  },
  {
   "cell_type": "code",
   "execution_count": 5,
   "id": "b3e4ea33-d9ec-4cfa-b192-5e3e4e10a12d",
   "metadata": {},
   "outputs": [],
   "source": [
    "import math\n",
    "\n",
    "def jump_search(arr, target):\n",
    "    n = len(arr)\n",
    "    step = int(math.sqrt(n))\n",
    "    prev = 0\n",
    "    \n",
    "    while arr[min(step, n) - 1] < target:\n",
    "        prev = step\n",
    "        step += int(math.sqrt(n))\n",
    "        if prev >= n:\n",
    "            return -1\n",
    "\n",
    "    while arr[prev] < target:\n",
    "        prev += 1\n",
    "        if prev == min(step, n):\n",
    "            return -1\n",
    "    if arr[prev] == target:\n",
    "        return prev\n",
    "    return -1\n"
   ]
  },
  {
   "cell_type": "markdown",
   "id": "882cfd34-47f4-4c3e-97b7-d7fcaa9d8d0e",
   "metadata": {},
   "source": [
    "Interpolation Search Implementation"
   ]
  },
  {
   "cell_type": "code",
   "execution_count": 6,
   "id": "af044249-36ff-4040-9ce2-e9acd7d3c586",
   "metadata": {},
   "outputs": [],
   "source": [
    "def interpolation_search(arr, target):\n",
    "    low = 0\n",
    "    high = len(arr) - 1\n",
    "    \n",
    "    while low <= high and target >= arr[low] and target <= arr[high]:\n",
    "        if low == high:\n",
    "            if arr[low] == target:\n",
    "                return low\n",
    "            return -1\n",
    "        \n",
    "        pos = low + int(((float(high - low) / (arr[high] - arr[low])) * (target - arr[low])))\n",
    "        \n",
    "        if arr[pos] == target:\n",
    "            return pos\n",
    "        if arr[pos] < target:\n",
    "            low = pos + 1\n",
    "        else:\n",
    "            high = pos - 1\n",
    "    return -1\n"
   ]
  },
  {
   "cell_type": "code",
   "execution_count": 7,
   "id": "5ddc43cc-b04e-4406-a769-9ca29e5edc6c",
   "metadata": {},
   "outputs": [],
   "source": [
    "import time\n",
    "import random\n",
    "\n",
    "def measure_time(search_function, arr, target):\n",
    "    start = time.time()\n",
    "    search_function(arr, target)\n",
    "    end = time.time()\n",
    "    return end - start\n",
    "\n",
    "def compare_searching_algorithms():\n",
    "    sizes = [1000, 5000, 10000]\n",
    "    jump_times = []\n",
    "    interpolation_times = []\n",
    "    binary_times = []\n",
    "    \n",
    "    for size in sizes:\n",
    "        arr = sorted(random.sample(range(1, 100000), size))  # Sorted array\n",
    "        \n",
    "        target = random.choice(arr)\n",
    "        \n",
    "        jump_times.append(measure_time(jump_search, arr, target))\n",
    "        interpolation_times.append(measure_time(interpolation_search, arr, target))\n",
    "        \n",
    "        binary_times.append(measure_time(binary_search, arr, target))  # Assuming binary_search is already defined\n",
    "\n",
    "    return sizes, jump_times, interpolation_times, binary_times\n"
   ]
  },
  {
   "cell_type": "code",
   "execution_count": 8,
   "id": "a8123111-5c20-4d13-9d18-e1d58fda3ed6",
   "metadata": {},
   "outputs": [
    {
     "name": "stdout",
     "output_type": "stream",
     "text": [
      "3\n",
      "3\n"
     ]
    }
   ],
   "source": [
    "arr = [1, 3, 5, 7, 9, 11, 13, 15]\n",
    "print(jump_search(arr, 7))  # Output: 3\n",
    "print(interpolation_search(arr, 7))  # Output: 3\n"
   ]
  },
  {
   "cell_type": "markdown",
   "id": "064fa825-f707-4907-bffa-8d6ea3e877ea",
   "metadata": {},
   "source": [
    "Task 3: Implementing Exponential Search and Fibonacci Search"
   ]
  },
  {
   "cell_type": "markdown",
   "id": "00b173c4-f518-4008-b569-c1bb733ed7db",
   "metadata": {},
   "source": [
    "1. Exponential Search Implementation"
   ]
  },
  {
   "cell_type": "code",
   "execution_count": 9,
   "id": "69e60e4c-7041-4939-8430-fe7cc4e8a5a8",
   "metadata": {},
   "outputs": [],
   "source": [
    "def binary_search(arr, low, high, x):\n",
    "    while low <= high:\n",
    "        mid = low + (high - low) // 2\n",
    "        if arr[mid] == x:\n",
    "            return mid\n",
    "        elif arr[mid] > x:\n",
    "            high = mid - 1\n",
    "        else:\n",
    "            low = mid + 1\n",
    "    return -1\n",
    "\n",
    "def exponential_search(arr, x):\n",
    "    if arr[0] == x:\n",
    "        return 0\n",
    "\n",
    "    n = len(arr)\n",
    "    i = 1\n",
    "    while i < n and arr[i] <= x:\n",
    "        i *= 2\n",
    "    \n",
    "    return binary_search(arr, i // 2, min(i, n-1), x)\n"
   ]
  },
  {
   "cell_type": "markdown",
   "id": "6ace6932-5c20-485c-9c6e-ab77bfbe3bd5",
   "metadata": {},
   "source": [
    "2. Fibonacci Search Implementation"
   ]
  },
  {
   "cell_type": "code",
   "execution_count": 10,
   "id": "47468eef-4270-4561-adbd-e31103e8164b",
   "metadata": {},
   "outputs": [],
   "source": [
    "def fibonacci_search(arr, x):\n",
    "    n = len(arr)\n",
    "    fib_m_2 = 0  # (m-2)'th Fibonacci number\n",
    "    fib_m_1 = 1  # (m-1)'th Fibonacci number\n",
    "    fib = fib_m_1 + fib_m_2  # m'th Fibonacci number\n",
    "\n",
    "    while fib < n:\n",
    "        fib_m_2 = fib_m_1\n",
    "        fib_m_1 = fib\n",
    "        fib = fib_m_1 + fib_m_2\n",
    "\n",
    "    offset = -1\n",
    "\n",
    "    while fib > 1:\n",
    "        i = min(offset + fib_m_2, n-1)\n",
    "\n",
    "        if arr[i] < x:\n",
    "            fib = fib_m_1\n",
    "            fib_m_1 = fib_m_2\n",
    "            fib_m_2 = fib - fib_m_1\n",
    "            offset = i\n",
    "        elif arr[i] > x:\n",
    "            fib = fib_m_2\n",
    "            fib_m_1 = fib_m_1 - fib_m_2\n",
    "            fib_m_2 = fib - fib_m_1\n",
    "        else:\n",
    "            return i\n",
    "\n",
    "    if fib_m_1 and arr[offset + 1] == x:\n",
    "        return offset + 1\n",
    "\n",
    "    return -1\n"
   ]
  },
  {
   "cell_type": "markdown",
   "id": "feae6e75-0f49-4c8d-9291-1342cf823f9b",
   "metadata": {},
   "source": [
    "3. Comparison with Linear and Binary Search"
   ]
  },
  {
   "cell_type": "code",
   "execution_count": 11,
   "id": "d8c112a2-8c28-4785-a49f-0d20b8235904",
   "metadata": {},
   "outputs": [],
   "source": [
    "def linear_search(arr, x):\n",
    "    for i in range(len(arr)):\n",
    "        if arr[i] == x:\n",
    "            return i\n",
    "    return -1\n"
   ]
  },
  {
   "cell_type": "markdown",
   "id": "81265412-e519-41ba-9a4e-f97800967de0",
   "metadata": {},
   "source": [
    "Binary Search"
   ]
  },
  {
   "cell_type": "code",
   "execution_count": 12,
   "id": "5f9d71ac-2807-4e6f-84af-a5b862ef48a7",
   "metadata": {},
   "outputs": [],
   "source": [
    "def binary_search(arr, low, high, x):\n",
    "    while low <= high:\n",
    "        mid = low + (high - low) // 2\n",
    "        if arr[mid] == x:\n",
    "            return mid\n",
    "        elif arr[mid] > x:\n",
    "            high = mid - 1\n",
    "        else:\n",
    "            low = mid + 1\n",
    "    return -1\n"
   ]
  },
  {
   "cell_type": "code",
   "execution_count": 13,
   "id": "15b61c12-8c21-4747-840a-c3c4439271dc",
   "metadata": {},
   "outputs": [
    {
     "name": "stdout",
     "output_type": "stream",
     "text": [
      "Exponential Search result: 4\n",
      "Exponential Search Time: 0.000999 seconds\n",
      "Fibonacci Search result: 4\n",
      "Fibonacci Search Time: 0.000000 seconds\n",
      "Binary Search result: 4\n",
      "Binary Search Time: 0.000000 seconds\n",
      "Linear Search result: 4\n",
      "Linear Search Time: 0.001000 seconds\n"
     ]
    }
   ],
   "source": [
    "import time\n",
    "\n",
    "# Sample sorted array\n",
    "arr = [2, 4, 8, 16, 32, 64, 128]\n",
    "\n",
    "# Target element\n",
    "x = 32\n",
    "\n",
    "# Performance measurement\n",
    "start = time.time()\n",
    "print(f\"Exponential Search result: {exponential_search(arr, x)}\")\n",
    "end = time.time()\n",
    "print(f\"Exponential Search Time: {end - start:.6f} seconds\")\n",
    "\n",
    "start = time.time()\n",
    "print(f\"Fibonacci Search result: {fibonacci_search(arr, x)}\")\n",
    "end = time.time()\n",
    "print(f\"Fibonacci Search Time: {end - start:.6f} seconds\")\n",
    "\n",
    "start = time.time()\n",
    "print(f\"Binary Search result: {binary_search(arr, 0, len(arr) - 1, x)}\")\n",
    "end = time.time()\n",
    "print(f\"Binary Search Time: {end - start:.6f} seconds\")\n",
    "\n",
    "start = time.time()\n",
    "print(f\"Linear Search result: {linear_search(arr, x)}\")\n",
    "end = time.time()\n",
    "print(f\"Linear Search Time: {end - start:.6f} seconds\")\n"
   ]
  }
 ],
 "metadata": {
  "kernelspec": {
   "display_name": "Python 3 (ipykernel)",
   "language": "python",
   "name": "python3"
  },
  "language_info": {
   "codemirror_mode": {
    "name": "ipython",
    "version": 3
   },
   "file_extension": ".py",
   "mimetype": "text/x-python",
   "name": "python",
   "nbconvert_exporter": "python",
   "pygments_lexer": "ipython3",
   "version": "3.11.7"
  }
 },
 "nbformat": 4,
 "nbformat_minor": 5
}
