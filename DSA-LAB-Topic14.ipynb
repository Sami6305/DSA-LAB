{
 "cells": [
  {
   "cell_type": "markdown",
   "id": "094eb750-b5b8-4bb8-befa-1513b881978f",
   "metadata": {},
   "source": [
    "Topic 14: Dynamic Programming (DP)"
   ]
  },
  {
   "cell_type": "markdown",
   "id": "de691a82-6aa8-4591-82fd-72b1aa0c1129",
   "metadata": {},
   "source": [
    "Task 1: Implementing the Fibonacci Sequence Using DP (Memoization &\n",
    "Tabulation)"
   ]
  },
  {
   "cell_type": "code",
   "execution_count": 1,
   "id": "0820779a-ca0f-4680-a4ec-33f1750cf97a",
   "metadata": {},
   "outputs": [
    {
     "name": "stdout",
     "output_type": "stream",
     "text": [
      "55\n"
     ]
    }
   ],
   "source": [
    "def fib_memoization(n, memo={}):\n",
    "    if n <= 1:\n",
    "        return n\n",
    "    if n not in memo:\n",
    "        memo[n] = fib_memoization(n-1, memo) + fib_memoization(n-2, memo)\n",
    "    return memo[n]\n",
    "\n",
    "# Example usage\n",
    "print(fib_memoization(10))  # Output: 55\n"
   ]
  },
  {
   "cell_type": "code",
   "execution_count": 2,
   "id": "58830619-9cb4-47b3-8315-c20756774526",
   "metadata": {},
   "outputs": [
    {
     "name": "stdout",
     "output_type": "stream",
     "text": [
      "55\n"
     ]
    }
   ],
   "source": [
    "def fib_tabulation(n):\n",
    "    if n <= 1:\n",
    "        return n\n",
    "    # Initialize the first two Fibonacci numbers\n",
    "    fib_table = [0] * (n + 1)\n",
    "    fib_table[1] = 1\n",
    "    for i in range(2, n + 1):\n",
    "        fib_table[i] = fib_table[i - 1] + fib_table[i - 2]\n",
    "    return fib_table[n]\n",
    "\n",
    "# Example usage\n",
    "print(fib_tabulation(10))  # Output: 55\n"
   ]
  },
  {
   "cell_type": "markdown",
   "id": "45b2783f-b54b-4065-94e2-70d93e35c9d5",
   "metadata": {},
   "source": [
    "Task 2: Implementing the Longest Common Subsequence (LCS) Algorithm"
   ]
  },
  {
   "cell_type": "code",
   "execution_count": 3,
   "id": "e351a622-9770-4e24-bc5e-c49b280a411f",
   "metadata": {},
   "outputs": [
    {
     "name": "stdout",
     "output_type": "stream",
     "text": [
      "LCS Length (Memoization): 4\n"
     ]
    }
   ],
   "source": [
    "def lcs_memoization(X, Y, m, n, memo={}):\n",
    "    # Base case: If either string is empty, LCS length is 0\n",
    "    if m == 0 or n == 0:\n",
    "        return 0\n",
    "    \n",
    "    # Check if the result is already computed\n",
    "    if (m, n) in memo:\n",
    "        return memo[(m, n)]\n",
    "    \n",
    "    # If characters match, 1 + LCS of remaining parts\n",
    "    if X[m - 1] == Y[n - 1]:\n",
    "        memo[(m, n)] = 1 + lcs_memoization(X, Y, m - 1, n - 1, memo)\n",
    "    else:\n",
    "        # If characters don't match, max of excluding one character from either string\n",
    "        memo[(m, n)] = max(lcs_memoization(X, Y, m - 1, n, memo), lcs_memoization(X, Y, m, n - 1, memo))\n",
    "    \n",
    "    return memo[(m, n)]\n",
    "\n",
    "# Example usage\n",
    "X = \"AGGTAB\"\n",
    "Y = \"GXTXAYB\"\n",
    "print(\"LCS Length (Memoization):\", lcs_memoization(X, Y, len(X), len(Y)))  # Output: 4\n"
   ]
  },
  {
   "cell_type": "code",
   "execution_count": 4,
   "id": "1863a9c2-3922-4866-99c5-afb6810581f3",
   "metadata": {},
   "outputs": [
    {
     "name": "stdout",
     "output_type": "stream",
     "text": [
      "LCS Length (Tabulation): 4\n"
     ]
    }
   ],
   "source": [
    "def lcs_tabulation(X, Y):\n",
    "    m = len(X)\n",
    "    n = len(Y)\n",
    "    \n",
    "    # Initialize DP table with 0's\n",
    "    dp = [[0] * (n + 1) for _ in range(m + 1)]\n",
    "    \n",
    "    # Fill the DP table\n",
    "    for i in range(1, m + 1):\n",
    "        for j in range(1, n + 1):\n",
    "            if X[i - 1] == Y[j - 1]:\n",
    "                dp[i][j] = dp[i - 1][j - 1] + 1\n",
    "            else:\n",
    "                dp[i][j] = max(dp[i - 1][j], dp[i][j - 1])\n",
    "    \n",
    "    # The length of the longest common subsequence is at dp[m][n]\n",
    "    return dp[m][n]\n",
    "\n",
    "# Example usage\n",
    "X = \"AGGTAB\"\n",
    "Y = \"GXTXAYB\"\n",
    "print(\"LCS Length (Tabulation):\", lcs_tabulation(X, Y))  # Output: 4\n"
   ]
  },
  {
   "cell_type": "code",
   "execution_count": 5,
   "id": "4ccc9e5c-ae05-4dea-b1cd-143336da476f",
   "metadata": {},
   "outputs": [
    {
     "name": "stdout",
     "output_type": "stream",
     "text": [
      "Longest Common Subsequence (Tabulation): GTAB\n"
     ]
    }
   ],
   "source": [
    "def extract_lcs(X, Y):\n",
    "    m = len(X)\n",
    "    n = len(Y)\n",
    "    dp = [[0] * (n + 1) for _ in range(m + 1)]\n",
    "    \n",
    "    # Fill the DP table\n",
    "    for i in range(1, m + 1):\n",
    "        for j in range(1, n + 1):\n",
    "            if X[i - 1] == Y[j - 1]:\n",
    "                dp[i][j] = dp[i - 1][j - 1] + 1\n",
    "            else:\n",
    "                dp[i][j] = max(dp[i - 1][j], dp[i][j - 1])\n",
    "    \n",
    "    # Reconstruct LCS from the DP table\n",
    "    lcs = []\n",
    "    i, j = m, n\n",
    "    while i > 0 and j > 0:\n",
    "        if X[i - 1] == Y[j - 1]:\n",
    "            lcs.append(X[i - 1])\n",
    "            i -= 1\n",
    "            j -= 1\n",
    "        elif dp[i - 1][j] >= dp[i][j - 1]:\n",
    "            i -= 1\n",
    "        else:\n",
    "            j -= 1\n",
    "    \n",
    "    # The LCS will be in reverse order, so reverse it\n",
    "    return ''.join(reversed(lcs))\n",
    "\n",
    "# Example usage\n",
    "X = \"AGGTAB\"\n",
    "Y = \"GXTXAYB\"\n",
    "print(\"Longest Common Subsequence (Tabulation):\", extract_lcs(X, Y))  # Output: \"GTAB\"\n"
   ]
  },
  {
   "cell_type": "code",
   "execution_count": 6,
   "id": "3fdd66b4-0890-40e3-9277-d3256e4bdbca",
   "metadata": {},
   "outputs": [
    {
     "name": "stdout",
     "output_type": "stream",
     "text": [
      "LCS Length (Memoization): 4\n",
      "LCS Length (Tabulation): 4\n",
      "Longest Common Subsequence: GTAB\n"
     ]
    }
   ],
   "source": [
    "X = \"AGGTAB\"\n",
    "Y = \"GXTXAYB\"\n",
    "print(\"LCS Length (Memoization):\", lcs_memoization(X, Y, len(X), len(Y)))  # Output: 4\n",
    "print(\"LCS Length (Tabulation):\", lcs_tabulation(X, Y))  # Output: 4\n",
    "print(\"Longest Common Subsequence:\", extract_lcs(X, Y))  # Output: \"GTAB\"\n"
   ]
  },
  {
   "cell_type": "markdown",
   "id": "29d5ead6-0dd5-479a-b024-fd832bac4b1d",
   "metadata": {},
   "source": [
    "Task 3: Implementing the 0/1 Knapsack Problem Using Dynamic\n",
    "Programming"
   ]
  },
  {
   "cell_type": "code",
   "execution_count": 7,
   "id": "935ba150-cdf1-4f20-b755-4e0375cd2233",
   "metadata": {},
   "outputs": [
    {
     "name": "stdout",
     "output_type": "stream",
     "text": [
      "7\n"
     ]
    }
   ],
   "source": [
    "def knapsack(weights, values, W):\n",
    "    n = len(weights)\n",
    "    # Initialize the DP table with all 0s\n",
    "    dp = [[0] * (W + 1) for _ in range(n + 1)]\n",
    "    \n",
    "    # Fill the DP table\n",
    "    for i in range(1, n + 1):\n",
    "        for w in range(1, W + 1):\n",
    "            if weights[i - 1] <= w:  # If the item can be included\n",
    "                dp[i][w] = max(dp[i - 1][w], dp[i - 1][w - weights[i - 1]] + values[i - 1])\n",
    "            else:  # If the item cannot be included\n",
    "                dp[i][w] = dp[i - 1][w]\n",
    "    \n",
    "    # The maximum value is in the bottom-right corner of the DP table\n",
    "    return dp[n][W]\n",
    "\n",
    "# Example usage\n",
    "weights = [2, 3, 4, 5]\n",
    "values = [3, 4, 5, 6]\n",
    "capacity = 5\n",
    "print(knapsack(weights, values, capacity))  # Output: 7\n"
   ]
  }
 ],
 "metadata": {
  "kernelspec": {
   "display_name": "Python 3 (ipykernel)",
   "language": "python",
   "name": "python3"
  },
  "language_info": {
   "codemirror_mode": {
    "name": "ipython",
    "version": 3
   },
   "file_extension": ".py",
   "mimetype": "text/x-python",
   "name": "python",
   "nbconvert_exporter": "python",
   "pygments_lexer": "ipython3",
   "version": "3.11.7"
  }
 },
 "nbformat": 4,
 "nbformat_minor": 5
}
